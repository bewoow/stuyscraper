{
 "cells": [
  {
   "cell_type": "code",
   "execution_count": 2,
   "metadata": {},
   "outputs": [],
   "source": [
    "import requests\n",
    "from bs4 import BeautifulSoup\n",
    "import json\n",
    "from urllib.request import urlopen"
   ]
  },
  {
   "cell_type": "code",
   "execution_count": 3,
   "metadata": {},
   "outputs": [],
   "source": [
    "url = 'https://www.stuytown.com/api/units?location=fd3cb2d5-ac75-4057-88c1-106ca4d4cb91,79f509f5-2cc0-480c-9886-ac52e6878415'"
   ]
  },
  {
   "cell_type": "code",
   "execution_count": 4,
   "metadata": {},
   "outputs": [],
   "source": [
    "# prop_json = urlopen(url).read()\n",
    "# prop = json.loads(prop_json)['result']"
   ]
  },
  {
   "cell_type": "code",
   "execution_count": 5,
   "metadata": {},
   "outputs": [],
   "source": [
    "apts = requests.get(url).json()['result']\n",
    "studios = [apt for apt in apts if apt['bedrooms'] == 0]\n",
    "one_beds = [apt for apt in apts if apt['bedrooms'] == 1]\n",
    "two_beds = [apt for apt in apts if apt['bedrooms'] == 2 or (apt['bedrooms'] == 1 and apt['isflex'] == True)]"
   ]
  },
  {
   "cell_type": "code",
   "execution_count": 6,
   "metadata": {},
   "outputs": [
    {
     "name": "stdout",
     "output_type": "stream",
     "text": [
      "No studios available\n"
     ]
    }
   ],
   "source": [
    "try:\n",
    "    cheapest_price_studio = sorted(studios, key=lambda x: x['price'])[0]\n",
    "    print('Lowest price for studio: ${0}'.format(cheapest_price_studio['price']))\n",
    "    if cheapest_price_studio['price'] < 2500:\n",
    "        print('{0} sqft'.format(cheapest_price_studio['sqft']))\n",
    "        print(cheapest_price_studio['absoluteUrl'])\n",
    "except IndexError:\n",
    "    print('No studios available')"
   ]
  },
  {
   "cell_type": "code",
   "execution_count": 7,
   "metadata": {},
   "outputs": [
    {
     "name": "stdout",
     "output_type": "stream",
     "text": [
      "Lowest price for 1-bedroom: $3347\n"
     ]
    }
   ],
   "source": [
    "try:\n",
    "    cheapest_one_bed = sorted(one_beds, key=lambda x: x['price'])[0]\n",
    "    print('Lowest price for 1-bedroom: ${0}'.format(cheapest_one_bed['price']))\n",
    "    if cheapest_one_bed['price'] < 3000:\n",
    "        print('{0} sqft'.format(cheapest_one_bed['sqft']))\n",
    "        print(cheapest_one_bed['absoluteUrl'])\n",
    "except IndexError:\n",
    "    print('No 1-bedrooms available')"
   ]
  },
  {
   "cell_type": "code",
   "execution_count": 8,
   "metadata": {},
   "outputs": [
    {
     "name": "stdout",
     "output_type": "stream",
     "text": [
      "Lowest price for 2-bedroom (flex): $3417\n",
      "771 sqft\n",
      "http://www.stuytown.com/nyc-apartments-for-rent/1-bedrooms/apt/620-east-20th-street/04-a\n"
     ]
    }
   ],
   "source": [
    "try:\n",
    "    cheapest_two_bed = sorted(two_beds, key=lambda x: x['price'])[0]\n",
    "    string_to_print = 'Lowest price for 2-bedroom (flex): ' if cheapest_two_bed['isflex'] else 'Lowest price for 2-bedroom (regular): '\n",
    "    print(string_to_print + '${0}'.format(cheapest_two_bed['price']))\n",
    "    if cheapest_two_bed['price'] < 3500:\n",
    "        print('{0} sqft'.format(cheapest_two_bed['sqft']))\n",
    "        print(cheapest_two_bed['absoluteUrl'])\n",
    "except IndexError:\n",
    "    print('No 2-bedrooms available')"
   ]
  },
  {
   "cell_type": "code",
   "execution_count": null,
   "metadata": {},
   "outputs": [],
   "source": []
  },
  {
   "cell_type": "code",
   "execution_count": null,
   "metadata": {},
   "outputs": [],
   "source": []
  },
  {
   "cell_type": "code",
   "execution_count": null,
   "metadata": {},
   "outputs": [],
   "source": []
  }
 ],
 "metadata": {
  "kernelspec": {
   "display_name": "Python 3",
   "language": "python",
   "name": "python3"
  },
  "language_info": {
   "codemirror_mode": {
    "name": "ipython",
    "version": 3
   },
   "file_extension": ".py",
   "mimetype": "text/x-python",
   "name": "python",
   "nbconvert_exporter": "python",
   "pygments_lexer": "ipython3",
   "version": "3.7.7"
  }
 },
 "nbformat": 4,
 "nbformat_minor": 4
}
